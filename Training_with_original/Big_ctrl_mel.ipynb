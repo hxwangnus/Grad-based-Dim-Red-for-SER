{
 "cells": [
  {
   "cell_type": "markdown",
   "metadata": {
    "id": "8fYFLFMFXSZk"
   },
   "source": [
    "# Load the data"
   ]
  },
  {
   "cell_type": "code",
   "execution_count": null,
   "metadata": {
    "id": "2HxiWCX5clPM"
   },
   "outputs": [],
   "source": [
    "from google.colab import drive\n",
    "drive.mount('/content/drive')"
   ]
  },
  {
   "cell_type": "code",
   "execution_count": null,
   "metadata": {
    "id": "Bdx9dPOJclV8"
   },
   "outputs": [],
   "source": [
    "!nvidia-smi"
   ]
  },
  {
   "cell_type": "code",
   "execution_count": null,
   "metadata": {
    "id": "2CvOXDYwXSZn"
   },
   "outputs": [],
   "source": [
    "import numpy as np\n",
    "import random\n",
    "import pandas as pd\n",
    "import os\n",
    "import time\n",
    "import matplotlib.pyplot as plt\n",
    "import seaborn as sns\n",
    "import sys\n",
    "\n",
    "import warnings\n",
    "if not sys.warnoptions:\n",
    "    warnings.simplefilter(\"ignore\")\n",
    "warnings.filterwarnings(\"ignore\", category=DeprecationWarning)"
   ]
  },
  {
   "cell_type": "markdown",
   "metadata": {
    "id": "msKiHlDSXSZ3"
   },
   "source": [
    "# Create the model"
   ]
  },
  {
   "cell_type": "code",
   "execution_count": null,
   "metadata": {
    "id": "DwPmDlUkbpJH"
   },
   "outputs": [],
   "source": [
    "import torch\n",
    "import torch.nn as nn\n",
    "\n",
    "class ResidualBlock(nn.Module):\n",
    "    def __init__(self, in_channels, out_channels, stride = 1, downsample = None):\n",
    "        super(ResidualBlock, self).__init__()\n",
    "        self.conv1 = nn.Sequential(\n",
    "                        nn.Conv2d(in_channels, out_channels, kernel_size = 3, stride = stride, padding = 1),\n",
    "                        nn.BatchNorm2d(out_channels),\n",
    "                        nn.GELU())\n",
    "        self.conv2 = nn.Sequential(\n",
    "                        nn.Conv2d(out_channels, out_channels, kernel_size = 3, stride = 1, padding = 1),\n",
    "                        nn.BatchNorm2d(out_channels))\n",
    "        self.downsample = downsample\n",
    "        self.relu = nn.ReLU()\n",
    "        self.gelu = nn.GELU()\n",
    "        self.out_channels = out_channels\n",
    "\n",
    "    def forward(self, x):\n",
    "        residual = x\n",
    "        out = self.conv1(x)\n",
    "        out = self.conv2(out)\n",
    "        if self.downsample:\n",
    "            residual = self.downsample(x)\n",
    "        out += residual\n",
    "        out = self.gelu(out)\n",
    "        return out\n"
   ]
  },
  {
   "cell_type": "code",
   "execution_count": null,
   "metadata": {
    "id": "dIX_bfpcXSZ3"
   },
   "outputs": [],
   "source": [
    "class ParallelModel(nn.Module):\n",
    "    def __init__(self, block, layers, num_emotions):\n",
    "        super().__init__()\n",
    "\n",
    "        # Resnet Block\n",
    "        self.inplanes = 64\n",
    "        self.res_conv1 = nn.Sequential(\n",
    "                        nn.Conv2d(1, 64, kernel_size = 3, stride = 2, padding = 3),\n",
    "                        nn.BatchNorm2d(64),\n",
    "                        nn.GELU())\n",
    "        self.res_maxpool = nn.MaxPool2d(kernel_size = 3, stride = 2, padding = 1)\n",
    "        self.res_layer0 = self._make_layer(block, 64, layers[0], stride = 1)\n",
    "        self.res_layer1 = self._make_layer(block, 128, layers[1], stride = 2)\n",
    "        self.res_layer2 = self._make_layer(block, 256, layers[2], stride = 2)\n",
    "        self.res_layer3 = self._make_layer(block, 512, layers[3], stride = 2)\n",
    "        self.res_avgpool = nn.AvgPool2d(3, stride=1)\n",
    "#         self.res_fc = nn.Linear(512, num_emotions)\n",
    "\n",
    "        # Block 1:\n",
    "        self.conv1 = nn.Conv2d(in_channels=1,\n",
    "                    out_channels=16,\n",
    "                    kernel_size=3,\n",
    "                    stride=1,\n",
    "                    padding=1)\n",
    "        self.bn1 = nn.BatchNorm2d(16)\n",
    "        self.relu = nn.ReLU()\n",
    "        self.max_pool1 = nn.MaxPool2d(kernel_size=2, stride=2)\n",
    "        self.dropout = nn.Dropout(p=0.3)\n",
    "\n",
    "        # Block 2:\n",
    "        self.conv2 = nn.Conv2d(in_channels=16,\n",
    "                    out_channels=32,\n",
    "                    kernel_size=3,\n",
    "                    stride=1,\n",
    "                    padding=1)\n",
    "        self.bn2 = nn.BatchNorm2d(32)\n",
    "        self.max_pool2 = nn.MaxPool2d(kernel_size=4, stride=4)\n",
    "\n",
    "        # Block 3:\n",
    "        self.conv3 = nn.Conv2d(in_channels=32,\n",
    "                    out_channels=64,\n",
    "                    kernel_size=3,\n",
    "                    stride=1,\n",
    "                    padding=1)\n",
    "        self.bn3 = nn.BatchNorm2d(64)\n",
    "        self.max_pool3 = nn.MaxPool2d(kernel_size=4, stride=4)\n",
    "\n",
    "        # Block 4:\n",
    "        self.conv4 = nn.Conv2d(in_channels=64,\n",
    "                    out_channels=64,\n",
    "                    kernel_size=3,\n",
    "                    stride=1,\n",
    "                    padding=1)\n",
    "        self.bn4 = nn.BatchNorm2d(64)\n",
    "        self.max_pool4 = nn.MaxPool2d(kernel_size=4, stride=4)\n",
    "\n",
    "        # LSTM block\n",
    "        self.lstm_maxpool = nn.MaxPool2d(kernel_size=[2,4], stride=[2,4])\n",
    "        hidden_size = 148\n",
    "        self.lstm = nn.LSTM(input_size=74,hidden_size=hidden_size,bidirectional=True, batch_first=True)\n",
    "        self.dropout_lstm = nn.Dropout(0.1)\n",
    "        self.attention_linear = nn.Linear(2*hidden_size,1) # 2*hidden_size for the 2 outputs of bidir LSTM\n",
    "\n",
    "        # Transformer block\n",
    "        self.transf_maxpool = nn.MaxPool2d(kernel_size=[1,4], stride=[1,4])\n",
    "        transf_layer = nn.TransformerEncoderLayer(d_model=148, nhead=4, dim_feedforward=512, dropout=0.4, activation='relu')\n",
    "        self.transf_encoder = nn.TransformerEncoder(transf_layer, num_layers=4)\n",
    "        # Linear softmax layer\n",
    "        self.out_linear = nn.Linear(2*hidden_size+212+15360,num_emotions)\n",
    "        self.dropout_linear = nn.Dropout(p=0)\n",
    "        self.out_softmax = nn.Softmax(dim=1)\n",
    "\n",
    "    def _make_layer(self, block, planes, blocks, stride=1):\n",
    "        downsample = None\n",
    "        if stride != 1 or self.inplanes != planes:\n",
    "\n",
    "            downsample = nn.Sequential(\n",
    "                nn.Conv2d(self.inplanes, planes, kernel_size=1, stride=stride),\n",
    "                nn.BatchNorm2d(planes),\n",
    "            )\n",
    "        layers = []\n",
    "        layers.append(block(self.inplanes, planes, stride, downsample))\n",
    "        self.inplanes = planes\n",
    "        for i in range(1, blocks):\n",
    "            layers.append(block(self.inplanes, planes))\n",
    "\n",
    "        return nn.Sequential(*layers)\n",
    "\n",
    "\n",
    "    def forward(self,x):\n",
    "\n",
    "        # resnet embedding\n",
    "        res_embedding = self.res_conv1(x)\n",
    "        res_embedding = self.res_maxpool(res_embedding)\n",
    "        res_embedding = self.res_layer0(res_embedding)\n",
    "        res_embedding = self.res_layer1(res_embedding)\n",
    "        res_embedding = self.dropout(res_embedding)\n",
    "        res_embedding = self.res_layer2(res_embedding)\n",
    "        res_embedding = self.res_layer3(res_embedding)\n",
    "        res_embedding = self.dropout(res_embedding)\n",
    "\n",
    "        # res_embedding = self.res_avgpool(res_embedding)\n",
    "        res_embedding = res_embedding.view(res_embedding.size(0), -1)\n",
    "\n",
    "        # conv embedding\n",
    "#         conv_embedding = self.conv2Dblock(x) #(b,channel,freq,time)\n",
    "        conv_embedding = self.dropout(self.max_pool1(self.relu(self.bn1(self.conv1(x)))))\n",
    "        conv_embedding = self.dropout(self.max_pool2(self.relu(self.bn2(self.conv2(conv_embedding)))))\n",
    "        conv_embedding = self.dropout(self.max_pool3(self.relu(self.bn3(self.conv3(conv_embedding)))))\n",
    "        conv_embedding = self.dropout(self.max_pool4(self.relu(self.bn4(self.conv4(conv_embedding)))))\n",
    "\n",
    "        conv_embedding = torch.flatten(conv_embedding, start_dim=1) # do not flatten batch dimension\n",
    "\n",
    "        # lstm embedding\n",
    "        x_reduced = self.lstm_maxpool(x)\n",
    "        x_reduced = torch.squeeze(x_reduced,1)\n",
    "        x_reduced = x_reduced.permute(0,2,1) # (batch,time,freq)\n",
    "        lstm_embedding, (h,c) = self.lstm(x_reduced) # (b, time, hidden_size*2)\n",
    "        lstm_embedding = self.dropout_lstm(lstm_embedding)\n",
    "        batch_size,T,_ = lstm_embedding.shape\n",
    "        attention_weights = [None]*T\n",
    "        for t in range(T):\n",
    "            embedding = lstm_embedding[:,t,:]\n",
    "            attention_weights[t] = self.attention_linear(embedding)\n",
    "        attention_weights_norm = nn.functional.softmax(torch.stack(attention_weights,-1),-1)\n",
    "        attention = torch.bmm(attention_weights_norm,lstm_embedding) # (Bx1xT)*(B,T,hidden_size*2)=(B,1,2*hidden_size)\n",
    "        attention = torch.squeeze(attention, 1)\n",
    "\n",
    "\n",
    "        # transformer embedding\n",
    "        x_reduced_t = self.transf_maxpool(x)\n",
    "        x_reduced_t = torch.squeeze(x_reduced_t,1)\n",
    "        x_reduced_t = x_reduced_t.permute(2,0,1) # (time,batch,embedding)\n",
    "        transf_out = self.transf_encoder(x_reduced_t)\n",
    "        transf_embedding = torch.mean(transf_out, dim=0)\n",
    "        # concatenate\n",
    "        complete_embedding = torch.cat([res_embedding, conv_embedding, attention, transf_embedding], dim=1)\n",
    "        # final Linear\n",
    "        output_logits = self.out_linear(complete_embedding)\n",
    "        output_logits = self.dropout_linear(output_logits)\n",
    "        output_softmax = self.out_softmax(output_logits)\n",
    "        return output_logits, output_softmax\n"
   ]
  },
  {
   "cell_type": "code",
   "execution_count": null,
   "metadata": {
    "id": "-B8BF95qXSZ4"
   },
   "outputs": [],
   "source": [
    "def loss_fnc(predictions, targets):\n",
    "    return nn.CrossEntropyLoss()(input=predictions,target=targets)"
   ]
  },
  {
   "cell_type": "markdown",
   "metadata": {
    "id": "EwCWQ3qgXSZ5"
   },
   "source": [
    "# TRAINING"
   ]
  },
  {
   "cell_type": "code",
   "execution_count": null,
   "metadata": {
    "id": "kG-QAU39XSZ5"
   },
   "outputs": [],
   "source": [
    "def make_train_step(model, loss_fnc, optimizer):\n",
    "    def train_step(X,Y):\n",
    "        # set model to train mode\n",
    "        model.train()\n",
    "        # forward pass\n",
    "        output_logits, output_softmax = model(X)\n",
    "        predictions = torch.argmax(output_softmax,dim=1)\n",
    "        accuracy = torch.sum(Y==predictions)/float(len(Y))\n",
    "        # compute loss\n",
    "        loss = loss_fnc(output_logits, Y)\n",
    "        # compute gradients\n",
    "        loss.backward()\n",
    "        # update parameters and zero gradients\n",
    "        optimizer.step()\n",
    "        optimizer.zero_grad()\n",
    "        return loss.item(), accuracy*100\n",
    "    return train_step"
   ]
  },
  {
   "cell_type": "code",
   "execution_count": null,
   "metadata": {
    "id": "-tHuRMZHXSZ6"
   },
   "outputs": [],
   "source": [
    "def make_validate_fnc(model,loss_fnc):\n",
    "    def validate(X,Y):\n",
    "        with torch.no_grad():\n",
    "            model.eval()\n",
    "            output_logits, output_softmax = model(X)\n",
    "            predictions = torch.argmax(output_softmax,dim=1)\n",
    "            accuracy = torch.sum(Y==predictions)/float(len(Y))\n",
    "            loss = loss_fnc(output_logits,Y)\n",
    "        return loss.item(), accuracy*100, predictions\n",
    "    return validate"
   ]
  },
  {
   "cell_type": "markdown",
   "metadata": {
    "id": "Gtv6tuuVXSZ6"
   },
   "source": [
    "scale data"
   ]
  },
  {
   "cell_type": "code",
   "execution_count": null,
   "metadata": {
    "id": "tm3hz4yBXSZ6"
   },
   "outputs": [],
   "source": [
    "X_train = np.load(file=\"/content/drive/MyDrive/serdl/notebooks/3_dataset_mel/xtrain.npy\")\n",
    "X_test = np.load(file=\"/content/drive/MyDrive/serdl/notebooks/3_dataset_mel/xtest.npy\")\n",
    "X_val = np.load(file=\"/content/drive/MyDrive/serdl/notebooks/3_dataset_mel/xval.npy\")\n",
    "\n",
    "Y_train = np.load(file=\"/content/drive/MyDrive/serdl/notebooks/3_dataset_mel/ytrain.npy\")\n",
    "Y_test = np.load(file=\"/content/drive/MyDrive/serdl/notebooks/3_dataset_mel/ytest.npy\")\n",
    "Y_val = np.load(file=\"/content/drive/MyDrive/serdl/notebooks/3_dataset_mel/yval.npy\")\n",
    "\n",
    "X_train.shape"
   ]
  },
  {
   "cell_type": "markdown",
   "metadata": {
    "id": "o-Loswb8XSZ6"
   },
   "source": [
    "Train the model"
   ]
  },
  {
   "cell_type": "code",
   "execution_count": null,
   "metadata": {
    "id": "M8Ezl42gnC4X"
   },
   "outputs": [],
   "source": [
    "import copy"
   ]
  },
  {
   "cell_type": "code",
   "execution_count": null,
   "metadata": {
    "colab": {
     "base_uri": "https://localhost:8080/"
    },
    "id": "wnmdgZiWXSZ7",
    "outputId": "b97af59e-43e7-419f-efb3-4979b903c0c9"
   },
   "outputs": [
    {
     "name": "stdout",
     "output_type": "stream",
     "text": [
      "Selected device is cuda\n"
     ]
    },
    {
     "name": "stderr",
     "output_type": "stream",
     "text": [
      "/usr/local/lib/python3.10/dist-packages/torch/nn/modules/transformer.py:282: UserWarning: enable_nested_tensor is True, but self.use_nested_tensor is False because encoder_layer.self_attn.batch_first was not True(use batch_first for better inference performance)\n",
      "  warnings.warn(f\"enable_nested_tensor is True, but self.use_nested_tensor is False because {why_not_sparsity_fast_path}\")\n"
     ]
    },
    {
     "name": "stdout",
     "output_type": "stream",
     "text": [
      "Number of trainable params:  12589569\n",
      " Epoch 0: iteration 175/176\n",
      "Epoch 0 --> loss:2.0988, acc:19.53%, val_loss:1.6515, val_acc:42.89%, time:11.20sec\n",
      "Epoch 0: Learning Rate: 0.000099\n",
      " Epoch 1: iteration 175/176\n",
      "Epoch 1 --> loss:1.8496, acc:33.89%, val_loss:0.9413, val_acc:65.82%, time:10.22sec\n",
      "Epoch 1: Learning Rate: 0.001079\n",
      " Epoch 2: iteration 175/176\n",
      "Epoch 2 --> loss:1.6052, acc:41.55%, val_loss:0.8637, val_acc:67.73%, time:10.18sec\n",
      "Epoch 2: Learning Rate: 0.002059\n",
      " Epoch 3: iteration 175/176\n",
      "Epoch 3 --> loss:1.4740, acc:45.08%, val_loss:0.8437, val_acc:70.49%, time:10.19sec\n",
      "Epoch 3: Learning Rate: 0.003039\n",
      " Epoch 4: iteration 175/176\n",
      "Epoch 4 --> loss:1.3184, acc:50.41%, val_loss:0.8809, val_acc:71.13%, time:10.20sec\n",
      "Epoch 4: Learning Rate: 0.004019\n",
      " Epoch 5: iteration 175/176\n",
      "Epoch 5 --> loss:1.3319, acc:53.42%, val_loss:1.1791, val_acc:63.91%, time:10.14sec\n",
      "Epoch 5: Learning Rate: 0.004999\n",
      " Epoch 6: iteration 175/176\n",
      "Epoch 6 --> loss:1.2189, acc:57.71%, val_loss:1.4917, val_acc:68.37%, time:10.19sec\n",
      "Epoch 6: Learning Rate: 0.005980\n",
      " Epoch 7: iteration 175/176\n",
      "Epoch 7 --> loss:0.9213, acc:67.74%, val_loss:0.7844, val_acc:74.31%, time:10.14sec\n",
      "Epoch 7: Learning Rate: 0.006960\n",
      " Epoch 8: iteration 175/176\n",
      "Epoch 8 --> loss:1.0018, acc:68.13%, val_loss:0.9113, val_acc:73.04%, time:10.15sec\n",
      "Epoch 8: Learning Rate: 0.007940\n",
      " Epoch 9: iteration 175/176\n",
      "Epoch 9 --> loss:0.6913, acc:76.42%, val_loss:0.8379, val_acc:73.04%, time:10.18sec\n",
      "Epoch 9: Learning Rate: 0.008920\n",
      " Epoch 10: iteration 175/176\n",
      "Epoch 10 --> loss:0.6856, acc:79.81%, val_loss:0.7967, val_acc:76.22%, time:10.16sec\n",
      "Epoch 10: Learning Rate: 0.008831\n",
      " Epoch 11: iteration 175/176\n",
      "Epoch 11 --> loss:0.3531, acc:88.31%, val_loss:0.7320, val_acc:79.19%, time:10.17sec\n",
      "Epoch 11: Learning Rate: 0.008742\n",
      " Epoch 12: iteration 175/176\n",
      "Epoch 12 --> loss:0.1405, acc:94.81%, val_loss:0.7550, val_acc:80.25%, time:10.16sec\n",
      "Epoch 12: Learning Rate: 0.008655\n",
      " Epoch 13: iteration 175/176\n",
      "Epoch 13 --> loss:0.1262, acc:95.22%, val_loss:0.7057, val_acc:81.53%, time:10.11sec\n",
      "Epoch 13: Learning Rate: 0.008568\n",
      " Epoch 14: iteration 175/176\n",
      "Epoch 14 --> loss:0.0677, acc:97.47%, val_loss:0.7842, val_acc:81.32%, time:10.12sec\n",
      "Epoch 14: Learning Rate: 0.008483\n",
      " Epoch 15: iteration 175/176\n",
      "Epoch 15 --> loss:0.0635, acc:97.60%, val_loss:1.1568, val_acc:76.22%, time:10.09sec\n",
      "Epoch 15: Learning Rate: 0.008398\n",
      " Epoch 16: iteration 175/176\n",
      "Epoch 16 --> loss:0.0577, acc:97.79%, val_loss:0.7847, val_acc:81.32%, time:10.15sec\n",
      "Epoch 16: Learning Rate: 0.008314\n",
      " Epoch 17: iteration 175/176\n",
      "Epoch 17 --> loss:0.0251, acc:98.74%, val_loss:0.8021, val_acc:82.59%, time:10.13sec\n",
      "Epoch 17: Learning Rate: 0.008231\n",
      " Epoch 18: iteration 175/176\n",
      "Epoch 18 --> loss:0.0386, acc:98.41%, val_loss:0.9527, val_acc:80.47%, time:10.12sec\n",
      "Epoch 18: Learning Rate: 0.008148\n",
      " Epoch 19: iteration 175/176\n",
      "Epoch 19 --> loss:0.0341, acc:98.53%, val_loss:0.9292, val_acc:80.04%, time:10.13sec\n",
      "Epoch 19: Learning Rate: 0.008067\n",
      " Epoch 20: iteration 175/176\n",
      "Epoch 20 --> loss:0.0177, acc:98.97%, val_loss:0.9924, val_acc:81.74%, time:10.13sec\n",
      "Epoch 20: Learning Rate: 0.007986\n",
      " Epoch 21: iteration 175/176\n",
      "Epoch 21 --> loss:0.0274, acc:98.66%, val_loss:1.0673, val_acc:78.34%, time:10.16sec\n",
      "Epoch 21: Learning Rate: 0.007906\n",
      " Epoch 22: iteration 175/176\n",
      "Epoch 22 --> loss:0.0357, acc:98.56%, val_loss:0.9380, val_acc:79.62%, time:10.12sec\n",
      "Epoch 22: Learning Rate: 0.007827\n",
      " Epoch 23: iteration 175/176\n",
      "Epoch 23 --> loss:0.0166, acc:99.09%, val_loss:0.9115, val_acc:80.47%, time:10.18sec\n",
      "Epoch 23: Learning Rate: 0.007749\n",
      " Epoch 24: iteration 175/176\n",
      "Epoch 24 --> loss:0.0117, acc:99.27%, val_loss:0.9919, val_acc:81.10%, time:10.13sec\n",
      "Epoch 24: Learning Rate: 0.007672\n",
      " Epoch 25: iteration 175/176\n",
      "Epoch 25 --> loss:0.0083, acc:99.31%, val_loss:1.0472, val_acc:80.89%, time:10.12sec\n",
      "Epoch 25: Learning Rate: 0.007595\n",
      " Epoch 26: iteration 175/176\n",
      "Epoch 26 --> loss:0.0117, acc:99.22%, val_loss:0.9214, val_acc:81.53%, time:10.13sec\n",
      "Epoch 26: Learning Rate: 0.007519\n",
      " Epoch 27: iteration 175/176\n",
      "Epoch 27 --> loss:0.0149, acc:99.20%, val_loss:0.9934, val_acc:81.32%, time:10.13sec\n",
      "Epoch 27: Learning Rate: 0.007444\n",
      " Epoch 28: iteration 175/176\n",
      "Epoch 28 --> loss:0.0067, acc:99.42%, val_loss:0.9090, val_acc:81.74%, time:10.17sec\n",
      "Epoch 28: Learning Rate: 0.007369\n",
      " Epoch 29: iteration 175/176\n",
      "Epoch 29 --> loss:0.0087, acc:99.36%, val_loss:0.9916, val_acc:81.53%, time:10.17sec\n",
      "Epoch 29: Learning Rate: 0.007296\n",
      " Epoch 30: iteration 175/176\n",
      "Epoch 30 --> loss:0.0073, acc:99.35%, val_loss:0.9116, val_acc:80.89%, time:10.13sec\n",
      "Epoch 30: Learning Rate: 0.007223\n",
      " Epoch 31: iteration 175/176\n",
      "Epoch 31 --> loss:0.0048, acc:99.44%, val_loss:0.9342, val_acc:81.74%, time:10.12sec\n",
      "Epoch 31: Learning Rate: 0.007150\n",
      " Epoch 32: iteration 175/176\n",
      "Epoch 32 --> loss:0.0050, acc:99.50%, val_loss:0.9400, val_acc:81.53%, time:10.12sec\n",
      "Epoch 32: Learning Rate: 0.007079\n",
      " Epoch 33: iteration 175/176\n",
      "Epoch 33 --> loss:0.0046, acc:99.39%, val_loss:0.9930, val_acc:80.47%, time:10.12sec\n",
      "Epoch 33: Learning Rate: 0.007008\n",
      " Epoch 34: iteration 175/176\n",
      "Epoch 34 --> loss:0.0031, acc:99.49%, val_loss:1.0794, val_acc:80.04%, time:10.16sec\n",
      "Epoch 34: Learning Rate: 0.006938\n",
      " Epoch 35: iteration 175/176\n",
      "Epoch 35 --> loss:0.0011, acc:99.56%, val_loss:1.1014, val_acc:81.10%, time:10.13sec\n",
      "Epoch 35: Learning Rate: 0.006869\n",
      " Epoch 36: iteration 175/176\n",
      "Epoch 36 --> loss:0.0010, acc:99.55%, val_loss:1.0666, val_acc:80.47%, time:10.12sec\n",
      "Epoch 36: Learning Rate: 0.006800\n",
      " Epoch 37: iteration 175/176Early stopping after 38 epochs\n"
     ]
    }
   ],
   "source": [
    "EMOTIONS = {1:'neutral', 2:'calm', 3:'happy', 4:'sad', 5:'angry', 6:'fear', 7:'disgust', 0:'surprise'}\n",
    "EPOCHS=200\n",
    "DATASET_SIZE = X_train.shape[0]\n",
    "BATCH_SIZE = 64\n",
    "device = 'cuda' if torch.cuda.is_available() else 'cpu'\n",
    "print('Selected device is {}'.format(device))\n",
    "model = ParallelModel(ResidualBlock, [2,2,2,2], len(EMOTIONS)).to(device)\n",
    "print('Number of trainable params: ',sum(p.numel() for p in model.parameters()))\n",
    "OPTIMIZER = torch.optim.SGD(model.parameters(),lr=0.01, weight_decay=1e-3, momentum=0.8)\n",
    "# OPTIMIZER = torch.optim.Adam(model.parameters(),lr=0.01, weight_decay=1e-3)\n",
    "scheduler = torch.optim.lr_scheduler.ExponentialLR(OPTIMIZER, gamma=0.99)\n",
    "\n",
    "# Early Stopping Criterion\n",
    "best_model_wts = copy.deepcopy(model.state_dict())\n",
    "best_acc = 0.0\n",
    "no_improve_epochs = 0\n",
    "patience = 20\n",
    "\n",
    "# Warmup\n",
    "WARMUP_EPOCHS = 10\n",
    "ORIGINAL_LR = 0.01\n",
    "START_LR = 1e-4\n",
    "increment_lr = (ORIGINAL_LR - START_LR) / WARMUP_EPOCHS\n",
    "\n",
    "for g in OPTIMIZER.param_groups: # update optimizer with start_lr\n",
    "    g['lr'] = START_LR\n",
    "\n",
    "# Training\n",
    "train_step = make_train_step(model, loss_fnc, optimizer=OPTIMIZER)\n",
    "validate = make_validate_fnc(model,loss_fnc)\n",
    "losses=[]\n",
    "val_losses = []\n",
    "start = time.time()\n",
    "for epoch in range(EPOCHS):\n",
    "    if epoch < WARMUP_EPOCHS:\n",
    "        # increase lr\n",
    "        lr = START_LR + epoch * increment_lr\n",
    "        # update lr\n",
    "        for g in OPTIMIZER.param_groups:\n",
    "            g['lr'] = lr\n",
    "\n",
    "    # schuffle data\n",
    "    start_epoch = time.time()\n",
    "    ind = np.random.permutation(DATASET_SIZE)\n",
    "    X_train = X_train[ind,:,:,:]\n",
    "    Y_train = Y_train[ind]\n",
    "    epoch_acc = 0\n",
    "    epoch_loss = 0\n",
    "    iters = int(DATASET_SIZE / BATCH_SIZE)\n",
    "    for i in range(iters):\n",
    "        batch_start = i * BATCH_SIZE\n",
    "        batch_end = min(batch_start + BATCH_SIZE, DATASET_SIZE)\n",
    "        actual_batch_size = batch_end-batch_start\n",
    "        X = X_train[batch_start:batch_end,:,:,:]\n",
    "        Y = Y_train[batch_start:batch_end]\n",
    "        X_tensor = torch.tensor(X,device=device).float()\n",
    "        Y_tensor = torch.tensor(Y, dtype=torch.long,device=device)\n",
    "        loss, acc = train_step(X_tensor,Y_tensor)\n",
    "        epoch_acc += acc*actual_batch_size/DATASET_SIZE\n",
    "        epoch_loss += loss*actual_batch_size/DATASET_SIZE\n",
    "        print(f\"\\r Epoch {epoch}: iteration {i}/{iters}\",end='')\n",
    "    X_val_tensor = torch.tensor(X_val,device=device).float()\n",
    "    Y_val_tensor = torch.tensor(Y_val,dtype=torch.long,device=device)\n",
    "    val_loss, val_acc, predictions = validate(X_val_tensor,Y_val_tensor)\n",
    "    losses.append(epoch_loss)\n",
    "    val_losses.append(val_loss)\n",
    "    scheduler.step()\n",
    "\n",
    "    if val_acc > best_acc:\n",
    "        best_acc = val_acc\n",
    "        no_improve_epochs = 0\n",
    "        best_model_wts = copy.deepcopy(model.state_dict())\n",
    "    else:\n",
    "        no_improve_epochs += 1\n",
    "\n",
    "    if no_improve_epochs >= patience:\n",
    "        print(f'Early stopping after {epoch+1} epochs')\n",
    "        break\n",
    "\n",
    "\n",
    "    elapsed_epoch = time.time() - start_epoch\n",
    "    print('')\n",
    "    print(f\"Epoch {epoch} --> loss:{epoch_loss:.4f}, acc:{epoch_acc:.2f}%, val_loss:{val_loss:.4f}, \"\n",
    "        f\"val_acc:{val_acc:.2f}%, time:{elapsed_epoch:.2f}sec\")\n",
    "    print(f'Epoch {epoch}: Learning Rate: {OPTIMIZER.param_groups[0][\"lr\"]:.6f}')\n"
   ]
  },
  {
   "cell_type": "code",
   "execution_count": null,
   "metadata": {
    "id": "RxFlw1cQbpJK"
   },
   "outputs": [],
   "source": [
    "elapsed = time.time() - start\n",
    "print(f\"Total training time:{elapsed:.2f}sec\")"
   ]
  },
  {
   "cell_type": "markdown",
   "metadata": {
    "id": "LR_nciz5XSZ8"
   },
   "source": [
    "# Save model"
   ]
  },
  {
   "cell_type": "code",
   "execution_count": null,
   "metadata": {
    "id": "XYh94T3DXSZ9"
   },
   "outputs": [],
   "source": [
    "SAVE_PATH = os.path.join(os.getcwd(),'/content/drive/MyDrive/serdl/notebooks/new_models')\n",
    "os.makedirs('models',exist_ok=True)\n",
    "torch.save(model.state_dict(),os.path.join(SAVE_PATH,'big_ctrl_mel_model.pt'))\n",
    "print('Model is saved to {}'.format(os.path.join(SAVE_PATH,'big_ctrl_mel_model.pt')))"
   ]
  },
  {
   "cell_type": "markdown",
   "metadata": {
    "id": "2dLJPgBrXSZ-"
   },
   "source": [
    "# Load model"
   ]
  },
  {
   "cell_type": "code",
   "execution_count": null,
   "metadata": {
    "id": "1SxuUb9BXSZ-"
   },
   "outputs": [],
   "source": [
    "EMOTIONS = {1:'neutral', 2:'calm', 3:'happy', 4:'sad', 5:'angry', 6:'fear', 7:'disgust', 0:'surprise'}\n",
    "device = 'cuda' if torch.cuda.is_available() else 'cpu'\n",
    "print('Selected device is {}'.format(device))\n",
    "\n",
    "LOAD_PATH = os.path.join(os.getcwd(),'/content/drive/MyDrive/serdl/notebooks/new_models')\n",
    "model = ParallelModel(ResidualBlock, [2,2,2,2], len(EMOTIONS))\n",
    "model.load_state_dict(torch.load(os.path.join(LOAD_PATH,'big_ctrl_mel_model.pt')))\n",
    "print('Model is loaded from {}'.format(os.path.join(LOAD_PATH,'big_ctrl_mel_model.pt')))"
   ]
  },
  {
   "cell_type": "markdown",
   "metadata": {
    "id": "R5cijTORXSZ_"
   },
   "source": [
    "# Test"
   ]
  },
  {
   "cell_type": "code",
   "execution_count": null,
   "metadata": {
    "colab": {
     "base_uri": "https://localhost:8080/"
    },
    "id": "XsVKWvlNXSZ_",
    "outputId": "2036b3a2-a598-4896-fea5-dfc1d9650ae1"
   },
   "outputs": [
    {
     "name": "stdout",
     "output_type": "stream",
     "text": [
      "Test loss is 1.377\n",
      "Test accuracy is 80.33%\n",
      "Total test time:0.093sec\n"
     ]
    }
   ],
   "source": [
    "model.to(device)\n",
    "OPTIMIZER = torch.optim.SGD(model.parameters(),lr=0.01, weight_decay=1e-3, momentum=0.8)\n",
    "# OPTIMIZER = torch.optim.Adam(model.parameters(),lr=0.01, weight_decay=1e-3)\n",
    "train_step = make_train_step(model, loss_fnc, optimizer=OPTIMIZER)\n",
    "validate = make_validate_fnc(model,loss_fnc)\n",
    "\n",
    "start = time.time()\n",
    "X_test_tensor = torch.tensor(X_test,device=device).float()\n",
    "Y_test_tensor = torch.tensor(Y_test,dtype=torch.long,device=device)\n",
    "test_loss, test_acc, predictions = validate(X_test_tensor,Y_test_tensor)\n",
    "elapsed = time.time() - start\n",
    "print(f'Test loss is {test_loss:.3f}')\n",
    "print(f'Test accuracy is {test_acc:.2f}%')\n",
    "print(f\"Total test time:{elapsed:.3f}sec\")"
   ]
  },
  {
   "cell_type": "markdown",
   "metadata": {
    "id": "QTZ7YtspXSZ_"
   },
   "source": [
    "confusion matrix"
   ]
  },
  {
   "cell_type": "code",
   "execution_count": null,
   "metadata": {
    "colab": {
     "base_uri": "https://localhost:8080/",
     "height": 531
    },
    "id": "iS76pSPtXSZ_",
    "outputId": "13e13b05-60a4-400a-f1a3-c59aafa3fc95"
   },
   "outputs": [
    {
     "name": "stdout",
     "output_type": "stream",
     "text": [
      "F1-Score: 0.803347280334728\n"
     ]
    },
    {
     "data": {
      "image/png": "[encoded data removed]",
      "text/plain": [
       "<Figure size 640x480 with 2 Axes>"
      ]
     },
     "metadata": {},
     "output_type": "display_data"
    }
   ],
   "source": [
    "from sklearn.metrics import confusion_matrix\n",
    "from sklearn.metrics import f1_score\n",
    "import seaborn as sn\n",
    "\n",
    "predictions = predictions.cpu().numpy()\n",
    "cm = confusion_matrix(Y_test, predictions)\n",
    "f1 = f1_score(Y_test, predictions, average='micro')\n",
    "print(\"F1-Score:\", f1)\n",
    "names = [EMOTIONS[ind] for ind in range(len(EMOTIONS))]\n",
    "df_cm = pd.DataFrame(cm, index=names, columns=names)\n",
    "# plt.figure(figsize=(10,7))\n",
    "sn.set(font_scale=1.4) # for label size\n",
    "sn.heatmap(df_cm, annot=True, annot_kws={\"size\": 16}) # font size\n",
    "plt.show()"
   ]
  },
  {
   "cell_type": "markdown",
   "metadata": {
    "id": "GGx_5F6GXSaB"
   },
   "source": [
    "# Plot loss"
   ]
  },
  {
   "cell_type": "code",
   "execution_count": null,
   "metadata": {
    "id": "jirP-QhRXSaB"
   },
   "outputs": [],
   "source": [
    "plt.plot(losses,'b')\n",
    "plt.plot(val_losses,'r')\n",
    "plt.legend(['train loss','val loss'])"
   ]
  },
  {
   "cell_type": "code",
   "execution_count": null,
   "metadata": {
    "id": "bpGyYHICbpJM"
   },
   "outputs": [],
   "source": []
  }
 ],
 "metadata": {
  "accelerator": "GPU",
  "colab": {
   "gpuType": "A100",
   "machine_shape": "hm",
   "provenance": []
  },
  "kernelspec": {
   "display_name": "Python 3 (ipykernel)",
   "language": "python",
   "name": "python3"
  },
  "language_info": {
   "codemirror_mode": {
    "name": "ipython",
    "version": 3
   },
   "file_extension": ".py",
   "mimetype": "text/x-python",
   "name": "python",
   "nbconvert_exporter": "python",
   "pygments_lexer": "ipython3",
   "version": "3.11.4"
  }
 },
 "nbformat": 4,
 "nbformat_minor": 1
}
